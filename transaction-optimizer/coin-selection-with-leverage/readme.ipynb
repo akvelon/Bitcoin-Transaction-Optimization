{
 "cells": [
  {
   "cell_type": "markdown",
   "metadata": {},
   "source": [
    "## Coin Selection with Leverage Readme\n",
    "\n"
   ]
  },
  {
   "cell_type": "markdown",
   "metadata": {},
   "source": [
    "This document walks through the contents of the folder \"/coin-selection-with-leverage\", explains the algorithms and shows how to run the simulations."
   ]
  },
  {
   "cell_type": "markdown",
   "metadata": {},
   "source": [
    "### Folder Contents\n",
    "\n",
    "\\coin-selection-with-leverage\n",
    "    1. \\data\n",
    "      a. utxo_sample.csv: Sample of UTXO set taken on October 1st, 2019\n",
    "      b. cc_data.csv: Transaction amounts from credit card data taken from the IEEE-CIS Kaggle Competition (URL: https://www.kaggle.com/c/ieee-fraud-detection)\n",
    "      \n",
    "    2. \\scripts\n",
    "        a. BTC_Utils.py: python script including some helper functions\n",
    "        b. BTC_KnapFallBack: Implements Fallback solution\n",
    "        c. BTC_KnapAlg: Implements standard Knapsack solution\n",
    "        d. BTC_KnapLevAlg: Implements new Leverage solution\n",
    "        e. BTC_Simulation: Combines 3 techniques and completes simulations\n",
    "    3. \\notebooks\n",
    "        a. BTO LevSim.ipynb: Jupyter notebook to run simulations with Leverage full solution. Various parameters are avaialbe to tweak in notebook.\n",
    "        b. BTO noLevSim.ipynb: Jupyter notebook to run simulations with no Leverage full solution. Various parameters are avaialbe to tweak in notebook.\n",
    "    \n",
    "    4. \\simulation-results\n",
    "        a. KnapsackSuccessRate_noLev.csv: csv file from showing success rate of standard knapsack algorithm. Used to compute the \"leverage boost factor\" used in leverage simulations.\n",
    "        b. leverageResults_ccData_dynamicLbf.csv: csv file showing simulation results quoted in technical paper.\n",
    "        c. noLeverageResults_ccData_dynamicLbf.csv: csv file showing simulation results quoted in technical paper.\n",
    "        \n",
    "        Future results will be saved here as .csv files.\n",
    "    5. technical_paper.pdf\n",
    "        Technical paper outlining full approach of new technique and simulation results.\n",
    "    6. readme.md"
   ]
  },
  {
   "cell_type": "markdown",
   "metadata": {},
   "source": [
    "### Overview of Techniques\n",
    "\n",
    "Given a fixed collection of payment requests:\n",
    "\n",
    "#### Fallback Solution\n",
    "Use the fewest number of UTXOs neccessary to process payments. Starting from largest UTXO (in value) and adding next highest and so on. Usually creates a change output.\n",
    "\n",
    "#### Knapsack Algorithm\n",
    "Searchs UTXO pool for collection of UTXOs to use to avoid change. If it finds a solution which uses more input UTXOs than that of Fallback, algorithm is considered to have failed and the Fallback solution or Leverage solution is used.\n",
    "\n",
    "#### Knapsack with Leverage\n",
    "Used only after Knapsack algorithm fails. Creates two transactions at once, one to process current payments and another to process some to be determined payments from the pool. \n",
    "\n",
    "Designed to utilze the change output from first transaction as an input UTXO for the second so that second transaction is change-free."
   ]
  },
  {
   "cell_type": "markdown",
   "metadata": {},
   "source": [
    "### To Run Simulations\n",
    "\n",
    "1. Install PuLP (https://pythonhosted.org/PuLP/)\n",
    "2. Run either BTO LevSim.ipynb or BTO noLevSim.ipynb with parameters of your choosing and indicate where to save results. (Instructions in notebooks)\n",
    "3. Alternative data sources for the UTXO and Payment Request pools can be used as well. Files can be pointed to and loaded in these notebooks for easy use in the simulations.\n",
    "\n",
    "The various parameters found in the above python scripts have more in-depth description in the notebooks and scripts themselves as well as the technical paper.\n",
    "\n"
   ]
  },
  {
   "cell_type": "code",
   "execution_count": null,
   "metadata": {},
   "outputs": [],
   "source": []
  }
 ],
 "metadata": {
  "kernelspec": {
   "display_name": "Python 3",
   "language": "python",
   "name": "python3"
  },
  "language_info": {
   "codemirror_mode": {
    "name": "ipython",
    "version": 3
   },
   "file_extension": ".py",
   "mimetype": "text/x-python",
   "name": "python",
   "nbconvert_exporter": "python",
   "pygments_lexer": "ipython3",
   "version": "3.7.3"
  }
 },
 "nbformat": 4,
 "nbformat_minor": 2
}
